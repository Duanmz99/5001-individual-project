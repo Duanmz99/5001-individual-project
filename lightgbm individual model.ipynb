{
 "cells": [
  {
   "cell_type": "code",
   "execution_count": 82,
   "metadata": {},
   "outputs": [],
   "source": [
    "import numpy as np\n",
    "import pandas as pd\n",
    "import lightgbm as lgb"
   ]
  },
  {
   "cell_type": "code",
   "execution_count": 83,
   "metadata": {},
   "outputs": [],
   "source": [
    "train=pd.read_csv(\"msbd5001-spring-2022/train.csv\")\n",
    "test=pd.read_csv(\"msbd5001-spring-2022/test.csv\")\n",
    "train_len=len(train)\n",
    "test_len=len(test)"
   ]
  },
  {
   "cell_type": "code",
   "execution_count": 84,
   "metadata": {},
   "outputs": [
    {
     "name": "stdout",
     "output_type": "stream",
     "text": [
      "['MO HLADR+ MFI (cells/ul)', 'Neu CD64+MFI (cells/ul)', 'CD3+T (cells/ul)', 'CD8+T (cells/ul)', 'CD4+T (cells/ul)', 'NK (cells/ul)', 'CD19+ (cells/ul)', 'CD45+ (cells/ul)', 'Age', 'Sex 0M1F', 'Mono CD64+MFI (cells/ul)']\n",
      "['Age', 'Sex 0M1F']\n"
     ]
    }
   ],
   "source": [
    "train_x=train.values[:,1:-1]\n",
    "train_x=np.delete(train_x,39,0)\n",
    "label=train.values[:,-1]\n",
    "label=np.delete(label,39,0)\n",
    "columns=train.columns[1:-1]\n",
    "column_list=[]\n",
    "for item in columns:\n",
    "    column_list.append(item)\n",
    "print(column_list)\n",
    "categorical=column_list[-3:-1]\n",
    "print(categorical)"
   ]
  },
  {
   "cell_type": "code",
   "execution_count": 85,
   "metadata": {},
   "outputs": [],
   "source": [
    "# train_data = lgb.Dataset(train_x, label=label, feature_name=column_list, categorical_feature=categorical)\n",
    "train_data = lgb.Dataset(train_x, label=label)"
   ]
  },
  {
   "cell_type": "code",
   "execution_count": 86,
   "metadata": {},
   "outputs": [],
   "source": [
    "param = {'num_leaves': 31, 'objective': 'binary'}\n",
    "param['metric'] = 'auc'"
   ]
  },
  {
   "cell_type": "code",
   "execution_count": 87,
   "metadata": {
    "scrolled": true
   },
   "outputs": [
    {
     "name": "stdout",
     "output_type": "stream",
     "text": [
      "[LightGBM] [Info] Number of positive: 29, number of negative: 57\n",
      "[LightGBM] [Warning] Auto-choosing col-wise multi-threading, the overhead of testing was 0.000675 seconds.\n",
      "You can set `force_col_wise=true` to remove the overhead.\n",
      "[LightGBM] [Info] Total Bins 289\n",
      "[LightGBM] [Info] Number of data points in the train set: 86, number of used features: 11\n",
      "[LightGBM] [Info] [binary:BoostFromScore]: pavg=0.337209 -> initscore=-0.675755\n",
      "[LightGBM] [Info] Start training from score -0.675755\n",
      "[LightGBM] [Warning] No further splits with positive gain, best gain: -inf\n",
      "[LightGBM] [Warning] No further splits with positive gain, best gain: -inf\n",
      "[LightGBM] [Warning] No further splits with positive gain, best gain: -inf\n",
      "[LightGBM] [Warning] No further splits with positive gain, best gain: -inf\n",
      "[LightGBM] [Warning] No further splits with positive gain, best gain: -inf\n",
      "[LightGBM] [Warning] No further splits with positive gain, best gain: -inf\n",
      "[LightGBM] [Warning] No further splits with positive gain, best gain: -inf\n",
      "[LightGBM] [Warning] No further splits with positive gain, best gain: -inf\n",
      "[LightGBM] [Warning] No further splits with positive gain, best gain: -inf\n",
      "[LightGBM] [Warning] No further splits with positive gain, best gain: -inf\n"
     ]
    }
   ],
   "source": [
    "num_round = 10\n",
    "bst = lgb.train(param, train_data, num_round)"
   ]
  },
  {
   "cell_type": "code",
   "execution_count": 88,
   "metadata": {},
   "outputs": [],
   "source": [
    "test_x=test.values[:,1:]\n",
    "predict=bst.predict(test_x)\n",
    "result=[]\n",
    "for item in predict:\n",
    "    if item<0.5:\n",
    "        result.append(0)\n",
    "    else:\n",
    "        result.append(1)\n",
    "id=[]\n",
    "for i in range(len(result)):\n",
    "    id.append(i)"
   ]
  },
  {
   "cell_type": "code",
   "execution_count": 89,
   "metadata": {},
   "outputs": [
    {
     "name": "stdout",
     "output_type": "stream",
     "text": [
      "    id  label\n",
      "0    0      0\n",
      "1    1      0\n",
      "2    2      0\n",
      "3    3      0\n",
      "4    4      0\n",
      "5    5      0\n",
      "6    6      0\n",
      "7    7      0\n",
      "8    8      0\n",
      "9    9      0\n",
      "10  10      0\n",
      "11  11      1\n",
      "12  12      0\n",
      "13  13      0\n",
      "14  14      0\n",
      "15  15      0\n",
      "16  16      0\n",
      "17  17      0\n",
      "18  18      0\n",
      "19  19      0\n",
      "20  20      1\n",
      "21  21      1\n",
      "22  22      0\n",
      "23  23      0\n",
      "24  24      0\n",
      "25  25      1\n",
      "26  26      0\n",
      "27  27      0\n",
      "28  28      1\n",
      "29  29      0\n",
      "30  30      1\n",
      "31  31      1\n",
      "32  32      0\n",
      "33  33      1\n",
      "34  34      0\n",
      "35  35      0\n",
      "36  36      0\n",
      "37  37      1\n",
      "38  38      1\n",
      "39  39      0\n",
      "40  40      1\n",
      "41  41      0\n",
      "42  42      0\n",
      "43  43      0\n",
      "44  44      0\n",
      "45  45      0\n",
      "46  46      0\n",
      "47  47      0\n",
      "48  48      0\n",
      "49  49      0\n",
      "50  50      0\n",
      "51  51      0\n",
      "52  52      0\n",
      "53  53      0\n",
      "54  54      1\n",
      "55  55      0\n",
      "56  56      0\n",
      "57  57      0\n",
      "58  58      1\n"
     ]
    }
   ],
   "source": [
    "lgbdict={\"id\":id,\"label\":result}\n",
    "lgbframe=pd.DataFrame(data=lgbdict)\n",
    "print(lgbframe)\n",
    "lgbframe.to_csv(\"resultlgb1.csv\",index=None)"
   ]
  },
  {
   "cell_type": "code",
   "execution_count": null,
   "metadata": {},
   "outputs": [],
   "source": []
  },
  {
   "cell_type": "code",
   "execution_count": null,
   "metadata": {},
   "outputs": [],
   "source": []
  }
 ],
 "metadata": {
  "kernelspec": {
   "display_name": "Python 3",
   "language": "python",
   "name": "python3"
  },
  "language_info": {
   "codemirror_mode": {
    "name": "ipython",
    "version": 3
   },
   "file_extension": ".py",
   "mimetype": "text/x-python",
   "name": "python",
   "nbconvert_exporter": "python",
   "pygments_lexer": "ipython3",
   "version": "3.8.3"
  }
 },
 "nbformat": 4,
 "nbformat_minor": 4
}
