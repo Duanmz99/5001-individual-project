{
 "cells": [
  {
   "cell_type": "code",
   "execution_count": 85,
   "metadata": {},
   "outputs": [],
   "source": [
    "import numpy as np\n",
    "import pandas as pd "
   ]
  },
  {
   "cell_type": "code",
   "execution_count": 86,
   "metadata": {},
   "outputs": [],
   "source": [
    "train=pd.read_csv(\"msbd5001-spring-2022/train.csv\")\n",
    "test=pd.read_csv(\"msbd5001-spring-2022/test.csv\")"
   ]
  },
  {
   "cell_type": "code",
   "execution_count": 87,
   "metadata": {},
   "outputs": [
    {
     "name": "stdout",
     "output_type": "stream",
     "text": [
      "    id  MO HLADR+ MFI (cells/ul)  Neu CD64+MFI (cells/ul)  CD3+T (cells/ul)  \\\n",
      "50  50                     421.0                    146.0            788.15   \n",
      "51  51                     171.0                     57.0           3791.23   \n",
      "52  52                    1358.0                     69.0           1114.49   \n",
      "53  53                    1849.0                     61.0           1237.55   \n",
      "54  54                    1558.0                    611.0            359.15   \n",
      "55  55                    1526.0                    515.0            504.21   \n",
      "56  56                    1055.0                     87.0            913.42   \n",
      "57  57                     365.0                    248.0            300.75   \n",
      "58  58                     867.0                     61.0           1444.66   \n",
      "59  59                     631.0                    182.0            675.10   \n",
      "60  60                    1037.0                     43.0           1050.69   \n",
      "61  61                    1047.0                     76.0           1529.16   \n",
      "62  62                    1238.0                     85.0           1468.00   \n",
      "63  63                    3040.0                    182.0           2530.40   \n",
      "64  64                    1190.0                    308.0            435.76   \n",
      "65  65                    1156.0                     31.0           1596.59   \n",
      "66  66                     731.0                     58.0            723.25   \n",
      "67  67                    1618.0                   1253.0            947.10   \n",
      "68  68                    2239.0                    126.0            719.90   \n",
      "69  69                    1495.0                    125.0           2910.03   \n",
      "70  70                    1521.0                    105.0            730.17   \n",
      "71  71                     960.0                    106.0            597.34   \n",
      "72  72                     969.0                     97.0            546.62   \n",
      "73  73                    1047.0                     42.0           1044.94   \n",
      "74  74                     953.0                   1233.0           1192.83   \n",
      "75  75                    1306.0                    114.0           1298.62   \n",
      "76  76                     365.0                    248.0            300.75   \n",
      "77  77                    1202.0                    258.0            563.25   \n",
      "78  78                     523.0                    228.0            669.71   \n",
      "79  79                     662.0                    127.0            552.16   \n",
      "\n",
      "    CD8+T (cells/ul)  CD4+T (cells/ul)  NK (cells/ul)  CD19+ (cells/ul)  \\\n",
      "50            608.57            186.13         127.87            229.11   \n",
      "51           2548.10           1236.94         489.83            411.90   \n",
      "52            493.71            619.57         223.75            105.79   \n",
      "53            483.23            788.77         815.06            245.70   \n",
      "54            148.65            191.80          20.62             81.52   \n",
      "55            193.91            313.46          42.04             23.81   \n",
      "56            410.52            507.04          77.46             43.08   \n",
      "57            195.07            106.58          13.42             52.91   \n",
      "58            701.69            758.53         590.72             43.98   \n",
      "59            280.09            386.57         136.00             56.23   \n",
      "60            549.20            488.29         185.85             29.41   \n",
      "61            664.01            860.33         249.25            155.90   \n",
      "62            702.00            613.00         604.00            174.00   \n",
      "63           1032.47           1318.98         257.34            399.03   \n",
      "64            475.00            337.00         200.34             42.69   \n",
      "65            731.99            570.52         206.39            135.28   \n",
      "66            359.71            366.95         193.69             95.35   \n",
      "67            355.39            593.51         104.63             77.12   \n",
      "68            462.77            259.98         142.42             24.15   \n",
      "69           1431.78           1517.81         446.94            401.45   \n",
      "70            176.61            559.49         253.74            210.81   \n",
      "71            280.85            319.19         157.30             89.79   \n",
      "72            279.80            267.73          64.29             81.80   \n",
      "73            370.37            632.41         188.10            104.43   \n",
      "74            808.00            293.00         169.09             71.08   \n",
      "75            647.53            608.43         254.15             90.64   \n",
      "76            195.07            106.58          13.42             52.91   \n",
      "77            288.73            277.59         306.77             81.40   \n",
      "78            339.20            330.12         153.61            108.99   \n",
      "79            219.15            292.96          58.36             59.22   \n",
      "\n",
      "    CD45+ (cells/ul)  Age  Sex 0M1F  Mono CD64+MFI (cells/ul)  label  \n",
      "50           1166.51   42         0                    1516.0      0  \n",
      "51           4757.28   27         1                      72.0      0  \n",
      "52           1520.04   34         0                    1615.0      0  \n",
      "53           2308.28   60         0                    1443.0      0  \n",
      "54            467.04   49         1                    2189.0      1  \n",
      "55            572.73   50         0                    2058.0      1  \n",
      "56           1040.18   48         0                    1728.0      1  \n",
      "57            371.30   41         1                     866.0      1  \n",
      "58           2098.31   52         0                    1148.0      0  \n",
      "59            875.41   29         1                    3990.0      0  \n",
      "60           1265.40   50         0                    1566.0      0  \n",
      "61           1999.74   34         0                    1154.0      0  \n",
      "62           2248.09   31         0                    1697.0      0  \n",
      "63           3023.44   20         1                    1763.0      0  \n",
      "64            689.42   53         0                    2589.0      1  \n",
      "65           1945.21   33         0                     673.0      0  \n",
      "66           1015.70   43         0                    1040.0      0  \n",
      "67           1131.10   35         0                    4946.0      1  \n",
      "68            895.71   50         0                    2330.0      0  \n",
      "69           3817.75   20         1                    1793.0      0  \n",
      "70           1201.71   51         1                    2013.0      0  \n",
      "71            848.44   41         0                    1550.0      0  \n",
      "72            696.03   54         0                    1415.0      0  \n",
      "73           1347.21   34         0                     781.0      0  \n",
      "74           1437.01   34         1                    5022.0      1  \n",
      "75           1648.75   32         0                    1589.0      0  \n",
      "76            371.30   41         1                     866.0      1  \n",
      "77            962.17   43         0                    2027.0      0  \n",
      "78            937.83   41         0                    1759.0      0  \n",
      "79            671.75   51         1                    1350.0      1  \n"
     ]
    }
   ],
   "source": [
    "train_len=len(train)\n",
    "test_len=len(test)\n",
    "print(train[50:80])"
   ]
  },
  {
   "cell_type": "code",
   "execution_count": 88,
   "metadata": {},
   "outputs": [
    {
     "name": "stdout",
     "output_type": "stream",
     "text": [
      "<class 'pandas.core.frame.DataFrame'>\n"
     ]
    }
   ],
   "source": [
    "print(type(train))"
   ]
  },
  {
   "cell_type": "code",
   "execution_count": 36,
   "metadata": {},
   "outputs": [
    {
     "name": "stdout",
     "output_type": "stream",
     "text": [
      "    id  MO HLADR+ MFI (cells/ul)  Neu CD64+MFI (cells/ul)  CD3+T (cells/ul)  \\\n",
      "0    0                    3556.0                   2489.0            265.19   \n",
      "1    1                    1906.0                    134.0           1442.61   \n",
      "2    2                    1586.0                     71.0           1332.74   \n",
      "3    3                     683.0                     94.0            419.23   \n",
      "4    4                    1032.0                     71.0           1102.72   \n",
      "..  ..                       ...                      ...               ...   \n",
      "54  54                     708.0                    248.0           1304.86   \n",
      "55  55                     560.0                     74.0            727.01   \n",
      "56  56                    1948.0                    264.0           1836.00   \n",
      "57  57                    1010.0                     90.0           1061.65   \n",
      "58  58                     674.0                    380.0            393.49   \n",
      "\n",
      "    CD8+T (cells/ul)  CD4+T (cells/ul)  NK (cells/ul)  CD19+ (cells/ul)  \\\n",
      "0              77.53            176.55           0.00              4.20   \n",
      "1             551.90            876.07         112.10            168.15   \n",
      "2             684.20            655.26         244.95            216.52   \n",
      "3             255.80            162.17          72.05             44.68   \n",
      "4             480.27            625.30         188.78            130.77   \n",
      "..               ...               ...            ...               ...   \n",
      "54            433.61            789.19         257.43            122.28   \n",
      "55            227.25            502.48         159.80            106.38   \n",
      "56            838.96            819.69         184.56            105.53   \n",
      "57            379.12            683.06          99.71             76.25   \n",
      "58            256.02            137.27          17.72             63.81   \n",
      "\n",
      "    CD45+ (cells/ul)  Mono CD64+MFI (cells/ul)  Age  Sex 0M1F  label  \n",
      "0             307.91                    7515.0   52         0    1.0  \n",
      "1            1735.48                    1756.0   20         1    0.0  \n",
      "2            1820.04                    1311.0   28         1    0.0  \n",
      "3             538.22                    1443.0   55         1    0.0  \n",
      "4            1427.97                    1542.0   28         1    0.0  \n",
      "..               ...                       ...  ...       ...    ...  \n",
      "54           1691.81                    1669.0   37         1    NaN  \n",
      "55           1011.29                    1235.0   54         0    NaN  \n",
      "56           1943.45                    2126.0   35         1    NaN  \n",
      "57           1241.34                    1319.0   34         0    NaN  \n",
      "58            479.55                    3095.0   40         0    NaN  \n",
      "\n",
      "[146 rows x 13 columns]\n"
     ]
    }
   ],
   "source": [
    "frames=[train,test]\n",
    "result=pd.concat(frames)\n",
    "columns=result.columns\n",
    "order=[]\n",
    "for i in range(0,9):\n",
    "    order.append(i)\n",
    "order.append(11)\n",
    "order.append(9)\n",
    "order.append(10)\n",
    "order.append(12)\n",
    "result=result[columns[order]]\n",
    "print(result)"
   ]
  },
  {
   "cell_type": "code",
   "execution_count": 74,
   "metadata": {},
   "outputs": [],
   "source": [
    "from sklearn import preprocessing\n",
    "data=result.values\n",
    "train_x1=data[:train_len,1:-3]\n",
    "train_x2=data[:train_len,-3:-1]\n",
    "test_x1=data[train_len:,1:-3]\n",
    "test_x2=data[train_len:,-3:-1]\n",
    "train_y=data[:train_len,-1]\n",
    "\n",
    "scale=preprocessing.StandardScaler().fit(train_x1)\n",
    "train_x1=scale.transform(train_x1)\n",
    "test_x1=scale.transform(test_x1)"
   ]
  },
  {
   "cell_type": "code",
   "execution_count": 75,
   "metadata": {},
   "outputs": [],
   "source": [
    "def concat(x1,x2):\n",
    "    result=[]\n",
    "    for i in range(0,len(x1)):\n",
    "        result.append(list(x1[i])+list(x2[i]))\n",
    "    return np.array(result)\n",
    "train_x=concat(train_x1,train_x2)\n",
    "test_x=concat(test_x1,test_x2)"
   ]
  },
  {
   "cell_type": "code",
   "execution_count": 76,
   "metadata": {},
   "outputs": [
    {
     "data": {
      "text/plain": [
       "SGDClassifier()"
      ]
     },
     "execution_count": 76,
     "metadata": {},
     "output_type": "execute_result"
    }
   ],
   "source": [
    "## logistic回归模型\n",
    "from sklearn.linear_model import SGDClassifier\n",
    "sgdc = SGDClassifier()\n",
    "train_x=np.delete(train_x,39,0)\n",
    "train_y=np.delete(train_y,39,0)\n",
    "sgdc.fit(train_x,train_y)"
   ]
  },
  {
   "cell_type": "code",
   "execution_count": 83,
   "metadata": {},
   "outputs": [
    {
     "name": "stdout",
     "output_type": "stream",
     "text": [
      "    id  label\n",
      "0    0      0\n",
      "1    1      0\n",
      "2    2      0\n",
      "3    3      0\n",
      "4    4      0\n",
      "5    5      0\n",
      "6    6      0\n",
      "7    7      0\n",
      "8    8      0\n",
      "9    9      0\n",
      "10  10      0\n",
      "11  11      1\n",
      "12  12      1\n",
      "13  13      0\n",
      "14  14      0\n",
      "15  15      0\n",
      "16  16      0\n",
      "17  17      0\n",
      "18  18      0\n",
      "19  19      0\n",
      "20  20      1\n",
      "21  21      1\n",
      "22  22      1\n",
      "23  23      0\n",
      "24  24      0\n",
      "25  25      1\n",
      "26  26      0\n",
      "27  27      0\n",
      "28  28      1\n",
      "29  29      0\n",
      "30  30      0\n",
      "31  31      1\n",
      "32  32      0\n",
      "33  33      1\n",
      "34  34      0\n",
      "35  35      0\n",
      "36  36      0\n",
      "37  37      1\n",
      "38  38      1\n",
      "39  39      0\n",
      "40  40      1\n",
      "41  41      1\n",
      "42  42      1\n",
      "43  43      1\n",
      "44  44      0\n",
      "45  45      0\n",
      "46  46      0\n",
      "47  47      1\n",
      "48  48      0\n",
      "49  49      0\n",
      "50  50      0\n",
      "51  51      0\n",
      "52  52      0\n",
      "53  53      0\n",
      "54  54      0\n",
      "55  55      0\n",
      "56  56      0\n",
      "57  57      0\n",
      "58  58      1\n"
     ]
    }
   ],
   "source": [
    "test_y=sgdc.predict(test_x)\n",
    "id=[]\n",
    "for i in range(len(test_y)):\n",
    "    id.append(i)\n",
    "test_y2=[]\n",
    "for item in test_y:\n",
    "    test_y2.append(int(item))\n",
    "sgdcdict={\"id\":id,\"label\":list(test_y2)}\n",
    "sgdcframe=pd.DataFrame(data=sgdcdict)\n",
    "print(sgdcframe)\n",
    "sgdcframe.to_csv(\"result.csv\",index=None)"
   ]
  },
  {
   "cell_type": "code",
   "execution_count": 84,
   "metadata": {},
   "outputs": [],
   "source": [
    "# lightgbm模型"
   ]
  },
  {
   "cell_type": "code",
   "execution_count": null,
   "metadata": {},
   "outputs": [],
   "source": []
  }
 ],
 "metadata": {
  "kernelspec": {
   "display_name": "Python 3",
   "language": "python",
   "name": "python3"
  },
  "language_info": {
   "codemirror_mode": {
    "name": "ipython",
    "version": 3
   },
   "file_extension": ".py",
   "mimetype": "text/x-python",
   "name": "python",
   "nbconvert_exporter": "python",
   "pygments_lexer": "ipython3",
   "version": "3.8.3"
  }
 },
 "nbformat": 4,
 "nbformat_minor": 4
}
